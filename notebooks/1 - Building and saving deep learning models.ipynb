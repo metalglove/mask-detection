{
 "cells": [
  {
   "cell_type": "markdown",
   "metadata": {},
   "source": [
    "# 1 - Building and saving deep learning models\n",
    "In this notebook all the deep learning models will be built and persisted."
   ]
  },
  {
   "cell_type": "markdown",
   "metadata": {},
   "source": [
    "## Setup"
   ]
  },
  {
   "cell_type": "code",
   "execution_count": 1,
   "metadata": {},
   "outputs": [
    {
     "name": "stdout",
     "output_type": "stream",
     "text": [
      "2.3.0\n"
     ]
    }
   ],
   "source": [
    "import tensorflow as tf\n",
    "import matplotlib.pyplot as plt\n",
    "import numpy as np\n",
    "import pandas as pd\n",
    "import os\n",
    "import sys\n",
    "import pathlib\n",
    "\n",
    "# sets the path to the home directory of this repository so other modules can be imported. \n",
    "root_path = os.path.split(os.getcwd())[0]\n",
    "assert root_path.endswith(\"mask-detection\"), \"The root path does not end with mask-detection: \" + root_path \n",
    "sys.path.insert(0, root_path)\n",
    "path = pathlib.Path(root_path + '/data/facemask-dataset')\n",
    "\n",
    "# set the seed for reproducible results.\n",
    "np.random.seed(0)\n",
    "tf.random.set_seed(0)\n",
    "\n",
    "# GPU settings\n",
    "physical_devices = tf.config.experimental.list_physical_devices('GPU')\n",
    "tf.config.experimental.set_memory_growth(physical_devices[0], True)\n",
    "\n",
    "print(tf.__version__)"
   ]
  },
  {
   "cell_type": "code",
   "execution_count": 2,
   "metadata": {},
   "outputs": [
    {
     "name": "stdout",
     "output_type": "stream",
     "text": [
      "train: 36 validation: 12 test: 12\n"
     ]
    }
   ],
   "source": [
    "from datasets.facemask_dataset import FacemaskDataset\n",
    "batch_size = 64\n",
    "train_percentage = 0.6\n",
    "validation_percentage = 0.2\n",
    "test_percentage = 0.2\n",
    "ds = FacemaskDataset(path, batch_size, 200, 200, True, train_percentage, validation_percentage, test_percentage)"
   ]
  },
  {
   "cell_type": "markdown",
   "metadata": {},
   "source": [
    "## Building models"
   ]
  },
  {
   "cell_type": "code",
   "execution_count": 3,
   "metadata": {},
   "outputs": [],
   "source": [
    "from tensorflow.keras import layers\n",
    "from tensorflow.keras.layers import Conv2D\n",
    "from tensorflow.keras.layers import MaxPooling2D\n",
    "from tensorflow.keras.layers import Flatten\n",
    "from tensorflow.keras.layers import Dense\n",
    "from tensorflow.keras.layers import Dropout\n",
    "\n",
    "model = tf.keras.Sequential([\n",
    "    layers.experimental.preprocessing.Rescaling(1./255),\n",
    "    Conv2D(32, 3, activation='relu'),\n",
    "    MaxPooling2D(),\n",
    "    Dropout(0.3),\n",
    "    Conv2D(32, 3, activation='relu'),\n",
    "    MaxPooling2D(),\n",
    "    Dropout(0.3),\n",
    "    Conv2D(32, 3, activation='relu'),\n",
    "    MaxPooling2D(),\n",
    "    Dropout(0.3),\n",
    "    Flatten(),\n",
    "    Dense(128, activation='relu'),\n",
    "    Dropout(0.1),\n",
    "    Dense(1, activation='sigmoid')\n",
    "])"
   ]
  },
  {
   "cell_type": "code",
   "execution_count": 4,
   "metadata": {},
   "outputs": [],
   "source": [
    "from tensorflow.keras.optimizers import Adam\n",
    "from tensorflow.keras.losses import BinaryCrossentropy\n",
    "\n",
    "model.compile(\n",
    "    optimizer=Adam(learning_rate=1e-4),\n",
    "    loss=BinaryCrossentropy(),\n",
    "    metrics=['acc'])"
   ]
  },
  {
   "cell_type": "code",
   "execution_count": 5,
   "metadata": {},
   "outputs": [
    {
     "name": "stdout",
     "output_type": "stream",
     "text": [
      "Epoch 1/100\n",
      "36/36 [==============================] - 61s 2s/step - loss: 0.6929 - acc: 0.5139 - val_loss: 0.6926 - val_acc: 0.4766\n",
      "Epoch 2/100\n",
      "36/36 [==============================] - 1s 39ms/step - loss: 0.6900 - acc: 0.5404 - val_loss: 0.6862 - val_acc: 0.7370\n",
      "Epoch 3/100\n",
      "36/36 [==============================] - 1s 40ms/step - loss: 0.6797 - acc: 0.5781 - val_loss: 0.6672 - val_acc: 0.6549\n",
      "Epoch 4/100\n",
      "36/36 [==============================] - 1s 40ms/step - loss: 0.6540 - acc: 0.6328 - val_loss: 0.6272 - val_acc: 0.7096\n",
      "Epoch 5/100\n",
      "36/36 [==============================] - 1s 40ms/step - loss: 0.6112 - acc: 0.6940 - val_loss: 0.5676 - val_acc: 0.7656\n",
      "Epoch 6/100\n",
      "36/36 [==============================] - 1s 40ms/step - loss: 0.5530 - acc: 0.7448 - val_loss: 0.5039 - val_acc: 0.7969\n",
      "Epoch 7/100\n",
      "36/36 [==============================] - 1s 40ms/step - loss: 0.4935 - acc: 0.7930 - val_loss: 0.5125 - val_acc: 0.7487\n",
      "Epoch 8/100\n",
      "36/36 [==============================] - 1s 40ms/step - loss: 0.4386 - acc: 0.8290 - val_loss: 0.5208 - val_acc: 0.6966\n",
      "Epoch 9/100\n",
      "36/36 [==============================] - 1s 40ms/step - loss: 0.3907 - acc: 0.8520 - val_loss: 0.5077 - val_acc: 0.7135\n",
      "Epoch 10/100\n",
      "36/36 [==============================] - 1s 40ms/step - loss: 0.3571 - acc: 0.8641 - val_loss: 0.4799 - val_acc: 0.7461\n",
      "Epoch 11/100\n",
      "36/36 [==============================] - 1s 40ms/step - loss: 0.3337 - acc: 0.8720 - val_loss: 0.4655 - val_acc: 0.7565\n",
      "Epoch 12/100\n",
      "36/36 [==============================] - 1s 40ms/step - loss: 0.3206 - acc: 0.8772 - val_loss: 0.4389 - val_acc: 0.7904\n",
      "Epoch 13/100\n",
      "36/36 [==============================] - 1s 40ms/step - loss: 0.3091 - acc: 0.8819 - val_loss: 0.4126 - val_acc: 0.8099\n",
      "Epoch 14/100\n",
      "36/36 [==============================] - 1s 40ms/step - loss: 0.2989 - acc: 0.8885 - val_loss: 0.3834 - val_acc: 0.8398\n",
      "Epoch 15/100\n",
      "36/36 [==============================] - 1s 40ms/step - loss: 0.2907 - acc: 0.8911 - val_loss: 0.3702 - val_acc: 0.8490\n",
      "Epoch 16/100\n",
      "36/36 [==============================] - 1s 40ms/step - loss: 0.2861 - acc: 0.8911 - val_loss: 0.3645 - val_acc: 0.8555\n",
      "Epoch 17/100\n",
      "36/36 [==============================] - 1s 40ms/step - loss: 0.2813 - acc: 0.8932 - val_loss: 0.3528 - val_acc: 0.8607\n",
      "Epoch 18/100\n",
      "36/36 [==============================] - 1s 39ms/step - loss: 0.2767 - acc: 0.8902 - val_loss: 0.3481 - val_acc: 0.8633\n",
      "Epoch 19/100\n",
      "36/36 [==============================] - 1s 40ms/step - loss: 0.2721 - acc: 0.8971 - val_loss: 0.3286 - val_acc: 0.8685\n",
      "Epoch 20/100\n",
      "36/36 [==============================] - 1s 40ms/step - loss: 0.2676 - acc: 0.9019 - val_loss: 0.3389 - val_acc: 0.8620\n",
      "Epoch 21/100\n",
      "36/36 [==============================] - 1s 40ms/step - loss: 0.2650 - acc: 0.8984 - val_loss: 0.3310 - val_acc: 0.8659\n",
      "Epoch 22/100\n",
      "36/36 [==============================] - 1s 40ms/step - loss: 0.2657 - acc: 0.9002 - val_loss: 0.3200 - val_acc: 0.8750\n",
      "Epoch 23/100\n",
      "36/36 [==============================] - 1s 40ms/step - loss: 0.2573 - acc: 0.9041 - val_loss: 0.3223 - val_acc: 0.8750\n",
      "Epoch 24/100\n",
      "36/36 [==============================] - 1s 40ms/step - loss: 0.2617 - acc: 0.8993 - val_loss: 0.3134 - val_acc: 0.8750\n",
      "Epoch 25/100\n",
      "36/36 [==============================] - 1s 40ms/step - loss: 0.2578 - acc: 0.9010 - val_loss: 0.2910 - val_acc: 0.8919\n",
      "Epoch 26/100\n",
      "36/36 [==============================] - 1s 40ms/step - loss: 0.2562 - acc: 0.9058 - val_loss: 0.2848 - val_acc: 0.8971\n",
      "Epoch 27/100\n",
      "36/36 [==============================] - 1s 40ms/step - loss: 0.2534 - acc: 0.9028 - val_loss: 0.2998 - val_acc: 0.8828\n",
      "Epoch 28/100\n",
      "36/36 [==============================] - 1s 40ms/step - loss: 0.2526 - acc: 0.9019 - val_loss: 0.2931 - val_acc: 0.8867\n",
      "Epoch 29/100\n",
      "36/36 [==============================] - 1s 40ms/step - loss: 0.2514 - acc: 0.9067 - val_loss: 0.2817 - val_acc: 0.8984\n",
      "Epoch 30/100\n",
      "36/36 [==============================] - 1s 40ms/step - loss: 0.2513 - acc: 0.9032 - val_loss: 0.2844 - val_acc: 0.8945\n",
      "Epoch 31/100\n",
      "36/36 [==============================] - 1s 39ms/step - loss: 0.2520 - acc: 0.9076 - val_loss: 0.2853 - val_acc: 0.8945\n",
      "Epoch 32/100\n",
      "36/36 [==============================] - 1s 40ms/step - loss: 0.2479 - acc: 0.9067 - val_loss: 0.2790 - val_acc: 0.8984\n",
      "Epoch 33/100\n",
      "36/36 [==============================] - 1s 40ms/step - loss: 0.2461 - acc: 0.9045 - val_loss: 0.2678 - val_acc: 0.9036\n",
      "Epoch 34/100\n",
      "36/36 [==============================] - 1s 40ms/step - loss: 0.2444 - acc: 0.9054 - val_loss: 0.2737 - val_acc: 0.9023\n",
      "Epoch 35/100\n",
      "36/36 [==============================] - 1s 40ms/step - loss: 0.2441 - acc: 0.9058 - val_loss: 0.2638 - val_acc: 0.9036\n",
      "Epoch 36/100\n",
      "36/36 [==============================] - 1s 40ms/step - loss: 0.2435 - acc: 0.9097 - val_loss: 0.2639 - val_acc: 0.9036\n",
      "Epoch 37/100\n",
      "36/36 [==============================] - 1s 40ms/step - loss: 0.2434 - acc: 0.9071 - val_loss: 0.2754 - val_acc: 0.9036\n",
      "Epoch 38/100\n",
      "36/36 [==============================] - 1s 40ms/step - loss: 0.2407 - acc: 0.9119 - val_loss: 0.2632 - val_acc: 0.9049\n",
      "Epoch 39/100\n",
      "36/36 [==============================] - 1s 40ms/step - loss: 0.2390 - acc: 0.9076 - val_loss: 0.2589 - val_acc: 0.9062\n",
      "Epoch 40/100\n",
      "36/36 [==============================] - 1s 40ms/step - loss: 0.2387 - acc: 0.9110 - val_loss: 0.2568 - val_acc: 0.9062\n",
      "Epoch 41/100\n",
      "36/36 [==============================] - 1s 40ms/step - loss: 0.2356 - acc: 0.9084 - val_loss: 0.2558 - val_acc: 0.9049\n",
      "Epoch 42/100\n",
      "36/36 [==============================] - 1s 40ms/step - loss: 0.2375 - acc: 0.9149 - val_loss: 0.2488 - val_acc: 0.9089\n",
      "Epoch 43/100\n",
      "36/36 [==============================] - 1s 40ms/step - loss: 0.2314 - acc: 0.9145 - val_loss: 0.2473 - val_acc: 0.9102\n",
      "Epoch 44/100\n",
      "36/36 [==============================] - 1s 40ms/step - loss: 0.2338 - acc: 0.9119 - val_loss: 0.2563 - val_acc: 0.9062\n",
      "Epoch 45/100\n",
      "36/36 [==============================] - 1s 40ms/step - loss: 0.2342 - acc: 0.9054 - val_loss: 0.2442 - val_acc: 0.9102\n",
      "Epoch 46/100\n",
      "36/36 [==============================] - 1s 40ms/step - loss: 0.2325 - acc: 0.9128 - val_loss: 0.2471 - val_acc: 0.9076\n",
      "Epoch 47/100\n",
      "36/36 [==============================] - 1s 40ms/step - loss: 0.2313 - acc: 0.9119 - val_loss: 0.2375 - val_acc: 0.9141\n",
      "Epoch 48/100\n",
      "36/36 [==============================] - 1s 40ms/step - loss: 0.2326 - acc: 0.9110 - val_loss: 0.2428 - val_acc: 0.9102\n",
      "Epoch 49/100\n",
      "36/36 [==============================] - 1s 40ms/step - loss: 0.2272 - acc: 0.9128 - val_loss: 0.2440 - val_acc: 0.9076\n",
      "Epoch 50/100\n",
      "36/36 [==============================] - 1s 40ms/step - loss: 0.2290 - acc: 0.9128 - val_loss: 0.2361 - val_acc: 0.9128\n",
      "Epoch 51/100\n",
      "36/36 [==============================] - 1s 40ms/step - loss: 0.2302 - acc: 0.9102 - val_loss: 0.2381 - val_acc: 0.9115\n",
      "Epoch 52/100\n",
      "36/36 [==============================] - 1s 40ms/step - loss: 0.2291 - acc: 0.9141 - val_loss: 0.2338 - val_acc: 0.9141\n",
      "Epoch 53/100\n",
      "36/36 [==============================] - 1s 40ms/step - loss: 0.2264 - acc: 0.9171 - val_loss: 0.2317 - val_acc: 0.9154\n",
      "Epoch 54/100\n",
      "36/36 [==============================] - 1s 40ms/step - loss: 0.2239 - acc: 0.9167 - val_loss: 0.2306 - val_acc: 0.9167\n",
      "Epoch 55/100\n",
      "36/36 [==============================] - 1s 40ms/step - loss: 0.2262 - acc: 0.9154 - val_loss: 0.2305 - val_acc: 0.9141\n",
      "Epoch 56/100\n",
      "36/36 [==============================] - 1s 40ms/step - loss: 0.2247 - acc: 0.9154 - val_loss: 0.2270 - val_acc: 0.9180\n",
      "Epoch 57/100\n",
      "36/36 [==============================] - 1s 40ms/step - loss: 0.2239 - acc: 0.9175 - val_loss: 0.2279 - val_acc: 0.9167\n",
      "Epoch 58/100\n",
      "36/36 [==============================] - 1s 40ms/step - loss: 0.2215 - acc: 0.9132 - val_loss: 0.2222 - val_acc: 0.9180\n",
      "Epoch 59/100\n",
      "36/36 [==============================] - 1s 40ms/step - loss: 0.2220 - acc: 0.9167 - val_loss: 0.2287 - val_acc: 0.9128\n",
      "Epoch 60/100\n",
      "36/36 [==============================] - 1s 40ms/step - loss: 0.2204 - acc: 0.9180 - val_loss: 0.2197 - val_acc: 0.9180\n",
      "Epoch 61/100\n",
      "36/36 [==============================] - 1s 40ms/step - loss: 0.2206 - acc: 0.9158 - val_loss: 0.2261 - val_acc: 0.9167\n",
      "Epoch 62/100\n"
     ]
    },
    {
     "name": "stdout",
     "output_type": "stream",
     "text": [
      "36/36 [==============================] - 1s 40ms/step - loss: 0.2198 - acc: 0.9167 - val_loss: 0.2196 - val_acc: 0.9180\n",
      "Epoch 63/100\n",
      "36/36 [==============================] - 1s 39ms/step - loss: 0.2164 - acc: 0.9175 - val_loss: 0.2196 - val_acc: 0.9180\n",
      "Epoch 64/100\n",
      "36/36 [==============================] - 1s 40ms/step - loss: 0.2196 - acc: 0.9162 - val_loss: 0.2157 - val_acc: 0.9180\n",
      "Epoch 65/100\n",
      "36/36 [==============================] - 1s 40ms/step - loss: 0.2159 - acc: 0.9180 - val_loss: 0.2143 - val_acc: 0.9167\n",
      "Epoch 66/100\n",
      "36/36 [==============================] - 1s 40ms/step - loss: 0.2152 - acc: 0.9188 - val_loss: 0.2141 - val_acc: 0.9180\n",
      "Epoch 67/100\n",
      "36/36 [==============================] - 1s 40ms/step - loss: 0.2145 - acc: 0.9188 - val_loss: 0.2093 - val_acc: 0.9206\n",
      "Epoch 68/100\n",
      "36/36 [==============================] - 1s 40ms/step - loss: 0.2149 - acc: 0.9201 - val_loss: 0.2120 - val_acc: 0.9180\n",
      "Epoch 69/100\n",
      "36/36 [==============================] - 1s 40ms/step - loss: 0.2110 - acc: 0.9232 - val_loss: 0.2089 - val_acc: 0.9193\n",
      "Epoch 70/100\n",
      "36/36 [==============================] - 1s 39ms/step - loss: 0.2105 - acc: 0.9201 - val_loss: 0.2072 - val_acc: 0.9232\n",
      "Epoch 71/100\n",
      "36/36 [==============================] - 1s 40ms/step - loss: 0.2103 - acc: 0.9245 - val_loss: 0.2039 - val_acc: 0.9232\n",
      "Epoch 72/100\n",
      "36/36 [==============================] - 1s 40ms/step - loss: 0.2086 - acc: 0.9197 - val_loss: 0.2039 - val_acc: 0.9232\n",
      "Epoch 73/100\n",
      "36/36 [==============================] - 1s 40ms/step - loss: 0.2093 - acc: 0.9219 - val_loss: 0.2024 - val_acc: 0.9245\n",
      "Epoch 74/100\n",
      "36/36 [==============================] - 1s 40ms/step - loss: 0.2076 - acc: 0.9232 - val_loss: 0.2004 - val_acc: 0.9258\n",
      "Epoch 75/100\n",
      "36/36 [==============================] - 1s 40ms/step - loss: 0.2095 - acc: 0.9206 - val_loss: 0.2009 - val_acc: 0.9258\n",
      "Epoch 76/100\n",
      "36/36 [==============================] - 1s 40ms/step - loss: 0.2099 - acc: 0.9219 - val_loss: 0.1982 - val_acc: 0.9284\n",
      "Epoch 77/100\n",
      "36/36 [==============================] - 1s 40ms/step - loss: 0.2093 - acc: 0.9214 - val_loss: 0.1971 - val_acc: 0.9271\n",
      "Epoch 78/100\n",
      "36/36 [==============================] - 1s 40ms/step - loss: 0.2045 - acc: 0.9219 - val_loss: 0.1965 - val_acc: 0.9271\n",
      "Epoch 79/100\n",
      "36/36 [==============================] - 1s 40ms/step - loss: 0.2037 - acc: 0.9245 - val_loss: 0.1943 - val_acc: 0.9284\n",
      "Epoch 80/100\n",
      "36/36 [==============================] - 1s 40ms/step - loss: 0.2049 - acc: 0.9232 - val_loss: 0.1936 - val_acc: 0.9284\n",
      "Epoch 81/100\n",
      "36/36 [==============================] - 1s 40ms/step - loss: 0.2027 - acc: 0.9223 - val_loss: 0.1927 - val_acc: 0.9271\n",
      "Epoch 82/100\n",
      "36/36 [==============================] - 1s 40ms/step - loss: 0.2011 - acc: 0.9240 - val_loss: 0.1913 - val_acc: 0.9297\n",
      "Epoch 83/100\n",
      "36/36 [==============================] - 1s 40ms/step - loss: 0.2025 - acc: 0.9214 - val_loss: 0.1913 - val_acc: 0.9297\n",
      "Epoch 84/100\n",
      "36/36 [==============================] - 1s 40ms/step - loss: 0.1993 - acc: 0.9249 - val_loss: 0.1895 - val_acc: 0.9297\n",
      "Epoch 85/100\n",
      "36/36 [==============================] - 1s 40ms/step - loss: 0.1975 - acc: 0.9249 - val_loss: 0.1875 - val_acc: 0.9284\n",
      "Epoch 86/100\n",
      "36/36 [==============================] - 1s 40ms/step - loss: 0.1980 - acc: 0.9280 - val_loss: 0.1860 - val_acc: 0.9310\n",
      "Epoch 87/100\n",
      "36/36 [==============================] - 1s 39ms/step - loss: 0.1967 - acc: 0.9271 - val_loss: 0.1854 - val_acc: 0.9323\n",
      "Epoch 88/100\n",
      "36/36 [==============================] - 1s 40ms/step - loss: 0.1952 - acc: 0.9262 - val_loss: 0.1852 - val_acc: 0.9297\n",
      "Epoch 89/100\n",
      "36/36 [==============================] - 1s 40ms/step - loss: 0.1955 - acc: 0.9288 - val_loss: 0.1832 - val_acc: 0.9336\n",
      "Epoch 90/100\n",
      "36/36 [==============================] - 1s 40ms/step - loss: 0.1892 - acc: 0.9275 - val_loss: 0.1838 - val_acc: 0.9323\n",
      "Epoch 91/100\n",
      "36/36 [==============================] - 1s 40ms/step - loss: 0.1925 - acc: 0.9275 - val_loss: 0.1807 - val_acc: 0.9336\n",
      "Epoch 92/100\n",
      "36/36 [==============================] - 1s 40ms/step - loss: 0.1907 - acc: 0.9258 - val_loss: 0.1825 - val_acc: 0.9362\n",
      "Epoch 93/100\n",
      "36/36 [==============================] - 1s 40ms/step - loss: 0.1922 - acc: 0.9240 - val_loss: 0.1793 - val_acc: 0.9375\n",
      "Epoch 94/100\n",
      "36/36 [==============================] - 1s 40ms/step - loss: 0.1935 - acc: 0.9262 - val_loss: 0.1787 - val_acc: 0.9401\n",
      "Epoch 95/100\n",
      "36/36 [==============================] - 1s 40ms/step - loss: 0.1913 - acc: 0.9253 - val_loss: 0.1780 - val_acc: 0.9388\n",
      "Epoch 96/100\n",
      "36/36 [==============================] - 1s 40ms/step - loss: 0.1867 - acc: 0.9245 - val_loss: 0.1782 - val_acc: 0.9375\n",
      "Epoch 97/100\n",
      "36/36 [==============================] - 1s 40ms/step - loss: 0.1866 - acc: 0.9258 - val_loss: 0.1750 - val_acc: 0.9388\n",
      "Epoch 98/100\n",
      "36/36 [==============================] - 1s 40ms/step - loss: 0.1892 - acc: 0.9236 - val_loss: 0.1802 - val_acc: 0.9336\n",
      "Epoch 99/100\n",
      "36/36 [==============================] - 1s 40ms/step - loss: 0.1830 - acc: 0.9275 - val_loss: 0.1731 - val_acc: 0.9388\n",
      "Epoch 100/100\n",
      "36/36 [==============================] - 1s 40ms/step - loss: 0.1821 - acc: 0.9319 - val_loss: 0.1719 - val_acc: 0.9414\n"
     ]
    }
   ],
   "source": [
    "from tensorflow.keras.callbacks import EarlyStopping\n",
    "\n",
    "# Add a callback for earlystopping\n",
    "callbacks = [EarlyStopping(patience=10, monitor='val_loss')]\n",
    "\n",
    "history = model.fit(\n",
    "    x=ds.train_ds,\n",
    "    validation_data=ds.val_ds,\n",
    "    epochs=100,\n",
    "    validation_steps=ds.val_size,\n",
    "    steps_per_epoch=ds.train_size,\n",
    "    callbacks=callbacks\n",
    ")"
   ]
  },
  {
   "cell_type": "markdown",
   "metadata": {},
   "source": [
    "## Visualise training history"
   ]
  },
  {
   "cell_type": "code",
   "execution_count": 6,
   "metadata": {},
   "outputs": [
    {
     "data": {
      "image/png": "[encoded data removed]",
      "text/plain": [
       "<Figure size 1152x576 with 2 Axes>"
      ]
     },
     "metadata": {
      "needs_background": "light"
     },
     "output_type": "display_data"
    }
   ],
   "source": [
    "def visualise_results(history):\n",
    "    def plot_graph(history, metric, label):\n",
    "        plt.plot(history.history[metric])\n",
    "        plt.plot(history.history['val_'+metric], '')\n",
    "        plt.xlabel(\"epochs\", fontsize=15)\n",
    "        plt.ylabel(label, fontsize=15)\n",
    "        plt.legend([f'training {label}', f'validation {label}'])\n",
    "\n",
    "    fig = plt.figure(figsize=(16,8))\n",
    "    fig.suptitle(\"Training metrics\", fontsize=20)\n",
    "    plt.subplot(1,2,1)\n",
    "    plot_graph(history, 'acc', 'accuracy')\n",
    "    plt.ylim(None,1)\n",
    "    plt.subplot(1,2,2)\n",
    "    plot_graph(history, 'loss', 'loss')\n",
    "    plt.ylim(0,None)\n",
    "\n",
    "visualise_results(history)"
   ]
  },
  {
   "cell_type": "markdown",
   "metadata": {},
   "source": [
    "## Saving models"
   ]
  },
  {
   "cell_type": "code",
   "execution_count": 7,
   "metadata": {},
   "outputs": [
    {
     "name": "stdout",
     "output_type": "stream",
     "text": [
      "WARNING:tensorflow:From c:\\users\\heijmans\\appdata\\local\\programs\\python\\python38\\lib\\site-packages\\tensorflow\\python\\training\\tracking\\tracking.py:111: Model.state_updates (from tensorflow.python.keras.engine.training) is deprecated and will be removed in a future version.\n",
      "Instructions for updating:\n",
      "This property should not be used in TensorFlow 2.0, as updates are applied automatically.\n",
      "WARNING:tensorflow:From c:\\users\\heijmans\\appdata\\local\\programs\\python\\python38\\lib\\site-packages\\tensorflow\\python\\training\\tracking\\tracking.py:111: Layer.updates (from tensorflow.python.keras.engine.base_layer) is deprecated and will be removed in a future version.\n",
      "Instructions for updating:\n",
      "This property should not be used in TensorFlow 2.0, as updates are applied automatically.\n",
      "INFO:tensorflow:Assets written to: C:\\Users\\Heijmans\\Documents\\Jupyter Notebooks\\mask-detection/models/cnn1\\assets\n"
     ]
    }
   ],
   "source": [
    "model.save(root_path + '/models/cnn1')"
   ]
  }
 ],
 "metadata": {
  "kernelspec": {
   "display_name": "Python 3",
   "language": "python",
   "name": "python3"
  },
  "language_info": {
   "codemirror_mode": {
    "name": "ipython",
    "version": 3
   },
   "file_extension": ".py",
   "mimetype": "text/x-python",
   "name": "python",
   "nbconvert_exporter": "python",
   "pygments_lexer": "ipython3",
   "version": "3.8.0"
  }
 },
 "nbformat": 4,
 "nbformat_minor": 4
}
