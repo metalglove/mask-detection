{
 "cells": [
  {
   "cell_type": "markdown",
   "metadata": {},
   "source": [
    "# Experimenting with models - Face Mask Detection\n",
    "## Description\n",
    "description here"
   ]
  },
  {
   "cell_type": "markdown",
   "metadata": {},
   "source": [
    "## Setup"
   ]
  },
  {
   "cell_type": "code",
   "execution_count": 4,
   "metadata": {},
   "outputs": [
    {
     "name": "stdout",
     "output_type": "stream",
     "text": [
      "2.3.0\n"
     ]
    }
   ],
   "source": [
    "import tensorflow as tf\n",
    "import matplotlib.pyplot as plt\n",
    "import numpy as np\n",
    "import pandas as pd\n",
    "import os\n",
    "import sys\n",
    "import pathlib\n",
    "\n",
    "# sets the path to the home directory of this repository so other modules can be imported. \n",
    "root_path = os.path.split(os.path.split(os.getcwd())[0])[0]\n",
    "assert root_path.endswith(\"mask-detection\"), \"The root path does not end with mask-detection: \" + root_path \n",
    "sys.path.insert(0, root_path)\n",
    "path = pathlib.Path(root_path + '/data/facemask-dataset')\n",
    "\n",
    "# set the seed for reproducible results.\n",
    "np.random.seed(0)\n",
    "tf.random.set_seed(0)\n",
    "\n",
    "# GPU settings\n",
    "physical_devices = tf.config.experimental.list_physical_devices('GPU')\n",
    "tf.config.experimental.set_memory_growth(physical_devices[0], True)\n",
    "\n",
    "print(tf.__version__)"
   ]
  },
  {
   "cell_type": "code",
   "execution_count": 19,
   "metadata": {},
   "outputs": [
    {
     "name": "stdout",
     "output_type": "stream",
     "text": [
      "train: 36 validation: 12 test: 12\n"
     ]
    }
   ],
   "source": [
    "from datasets.facemask_dataset import FacemaskDataset\n",
    "batch_size = 64\n",
    "train_percentage = 0.6\n",
    "validation_percentage = 0.2\n",
    "test_percentage = 0.2\n",
    "ds = FacemaskDataset(path, batch_size, 200, 200, True, train_percentage, validation_percentage, test_percentage)"
   ]
  },
  {
   "cell_type": "markdown",
   "metadata": {},
   "source": [
    "## Building models"
   ]
  },
  {
   "cell_type": "code",
   "execution_count": 25,
   "metadata": {},
   "outputs": [],
   "source": [
    "from tensorflow.keras import layers\n",
    "from tensorflow.keras.layers import Conv2D\n",
    "from tensorflow.keras.layers import MaxPooling2D\n",
    "from tensorflow.keras.layers import Flatten\n",
    "from tensorflow.keras.layers import Dense\n",
    "from tensorflow.keras.layers import Dropout\n",
    "\n",
    "num_classes = 2\n",
    "\n",
    "model = tf.keras.Sequential([\n",
    "    layers.experimental.preprocessing.Rescaling(1./255),\n",
    "    Conv2D(32, 3, activation='relu'),\n",
    "    MaxPooling2D(),\n",
    "    Dropout(0.3),\n",
    "    Conv2D(32, 3, activation='relu'),\n",
    "    MaxPooling2D(),\n",
    "    Dropout(0.3),\n",
    "    Conv2D(32, 3, activation='relu'),\n",
    "    MaxPooling2D(),\n",
    "    Dropout(0.3),\n",
    "    Flatten(),\n",
    "    Dense(128, activation='relu'),\n",
    "    Dropout(0.1),\n",
    "    Dense(num_classes)\n",
    "])"
   ]
  },
  {
   "cell_type": "code",
   "execution_count": 26,
   "metadata": {},
   "outputs": [],
   "source": [
    "from tensorflow.keras.optimizers import Adam\n",
    "from tensorflow.keras.losses import SparseCategoricalCrossentropy\n",
    "\n",
    "model.compile(\n",
    "    optimizer=Adam(learning_rate=1e-4),\n",
    "    loss=SparseCategoricalCrossentropy(from_logits=True),\n",
    "    metrics=['acc'])"
   ]
  },
  {
   "cell_type": "code",
   "execution_count": 27,
   "metadata": {},
   "outputs": [
    {
     "name": "stdout",
     "output_type": "stream",
     "text": [
      "Epoch 1/100\n",
      "36/36 [==============================] - 2s 45ms/step - loss: 0.6922 - acc: 0.5369 - val_loss: 0.6915 - val_acc: 0.6693\n",
      "Epoch 2/100\n",
      "36/36 [==============================] - 2s 42ms/step - loss: 0.6865 - acc: 0.5664 - val_loss: 0.6887 - val_acc: 0.4857\n",
      "Epoch 3/100\n",
      "36/36 [==============================] - 1s 41ms/step - loss: 0.6674 - acc: 0.6415 - val_loss: 0.6586 - val_acc: 0.6836\n",
      "Epoch 4/100\n",
      "36/36 [==============================] - 1s 41ms/step - loss: 0.6321 - acc: 0.6780 - val_loss: 0.6228 - val_acc: 0.6940\n",
      "Epoch 5/100\n",
      "36/36 [==============================] - 1s 41ms/step - loss: 0.5919 - acc: 0.7105 - val_loss: 0.5848 - val_acc: 0.7083\n",
      "Epoch 6/100\n",
      "36/36 [==============================] - 2s 42ms/step - loss: 0.5480 - acc: 0.7422 - val_loss: 0.5480 - val_acc: 0.7109\n",
      "Epoch 7/100\n",
      "36/36 [==============================] - 1s 41ms/step - loss: 0.4958 - acc: 0.7713 - val_loss: 0.4685 - val_acc: 0.7865\n",
      "Epoch 8/100\n",
      "36/36 [==============================] - 1s 41ms/step - loss: 0.4238 - acc: 0.8398 - val_loss: 0.4029 - val_acc: 0.8320\n",
      "Epoch 9/100\n",
      "36/36 [==============================] - 1s 42ms/step - loss: 0.3712 - acc: 0.8620 - val_loss: 0.3519 - val_acc: 0.8685\n",
      "Epoch 10/100\n",
      "36/36 [==============================] - 1s 41ms/step - loss: 0.3318 - acc: 0.8750 - val_loss: 0.3173 - val_acc: 0.8893\n",
      "Epoch 11/100\n",
      "36/36 [==============================] - 1s 41ms/step - loss: 0.3102 - acc: 0.8854 - val_loss: 0.3010 - val_acc: 0.8971\n",
      "Epoch 12/100\n",
      "36/36 [==============================] - 2s 42ms/step - loss: 0.2971 - acc: 0.8863 - val_loss: 0.2892 - val_acc: 0.8945\n",
      "Epoch 13/100\n",
      "36/36 [==============================] - 1s 41ms/step - loss: 0.2880 - acc: 0.8889 - val_loss: 0.2816 - val_acc: 0.8971\n",
      "Epoch 14/100\n",
      "36/36 [==============================] - 2s 42ms/step - loss: 0.2878 - acc: 0.8898 - val_loss: 0.2772 - val_acc: 0.8945\n",
      "Epoch 15/100\n",
      "36/36 [==============================] - 1s 42ms/step - loss: 0.2912 - acc: 0.8815 - val_loss: 0.2969 - val_acc: 0.8893\n",
      "Epoch 16/100\n",
      "36/36 [==============================] - 2s 42ms/step - loss: 0.2729 - acc: 0.8954 - val_loss: 0.2834 - val_acc: 0.8919\n",
      "Epoch 17/100\n",
      "36/36 [==============================] - 1s 41ms/step - loss: 0.2685 - acc: 0.8958 - val_loss: 0.2829 - val_acc: 0.8880\n",
      "Epoch 18/100\n",
      "36/36 [==============================] - 1s 41ms/step - loss: 0.2676 - acc: 0.8941 - val_loss: 0.2690 - val_acc: 0.8984\n",
      "Epoch 19/100\n",
      "36/36 [==============================] - 1s 42ms/step - loss: 0.2720 - acc: 0.8919 - val_loss: 0.2638 - val_acc: 0.9010\n",
      "Epoch 20/100\n",
      "36/36 [==============================] - 1s 41ms/step - loss: 0.2677 - acc: 0.8941 - val_loss: 0.2628 - val_acc: 0.8906\n",
      "Epoch 21/100\n",
      "36/36 [==============================] - 1s 41ms/step - loss: 0.2760 - acc: 0.8867 - val_loss: 0.2692 - val_acc: 0.8906\n",
      "Epoch 22/100\n",
      "36/36 [==============================] - 1s 41ms/step - loss: 0.2688 - acc: 0.8924 - val_loss: 0.2604 - val_acc: 0.8893\n",
      "Epoch 23/100\n",
      "36/36 [==============================] - 1s 42ms/step - loss: 0.2641 - acc: 0.8932 - val_loss: 0.2588 - val_acc: 0.8893\n",
      "Epoch 24/100\n",
      "36/36 [==============================] - 2s 42ms/step - loss: 0.2591 - acc: 0.8954 - val_loss: 0.2560 - val_acc: 0.8919\n",
      "Epoch 25/100\n",
      "36/36 [==============================] - 1s 41ms/step - loss: 0.2588 - acc: 0.8945 - val_loss: 0.2560 - val_acc: 0.8971\n",
      "Epoch 26/100\n",
      "36/36 [==============================] - 1s 41ms/step - loss: 0.2570 - acc: 0.8967 - val_loss: 0.2501 - val_acc: 0.8958\n",
      "Epoch 27/100\n",
      "36/36 [==============================] - 1s 41ms/step - loss: 0.2511 - acc: 0.8958 - val_loss: 0.2508 - val_acc: 0.8958\n",
      "Epoch 28/100\n",
      "36/36 [==============================] - 1s 41ms/step - loss: 0.2579 - acc: 0.8980 - val_loss: 0.2490 - val_acc: 0.9010\n",
      "Epoch 29/100\n",
      "36/36 [==============================] - 1s 42ms/step - loss: 0.2474 - acc: 0.9049 - val_loss: 0.2454 - val_acc: 0.8997\n",
      "Epoch 30/100\n",
      "36/36 [==============================] - 1s 41ms/step - loss: 0.2527 - acc: 0.8976 - val_loss: 0.2447 - val_acc: 0.9036\n",
      "Epoch 31/100\n",
      "36/36 [==============================] - 2s 42ms/step - loss: 0.2477 - acc: 0.9006 - val_loss: 0.2432 - val_acc: 0.9036\n",
      "Epoch 32/100\n",
      "36/36 [==============================] - 1s 41ms/step - loss: 0.2468 - acc: 0.9045 - val_loss: 0.2409 - val_acc: 0.9062\n",
      "Epoch 33/100\n",
      "36/36 [==============================] - 1s 41ms/step - loss: 0.2408 - acc: 0.9041 - val_loss: 0.2392 - val_acc: 0.9036\n",
      "Epoch 34/100\n",
      "36/36 [==============================] - 1s 41ms/step - loss: 0.2427 - acc: 0.9023 - val_loss: 0.2375 - val_acc: 0.9049\n",
      "Epoch 35/100\n",
      "36/36 [==============================] - 1s 41ms/step - loss: 0.2399 - acc: 0.9023 - val_loss: 0.2348 - val_acc: 0.9062\n",
      "Epoch 36/100\n",
      "36/36 [==============================] - 1s 42ms/step - loss: 0.2394 - acc: 0.9058 - val_loss: 0.2354 - val_acc: 0.9076\n",
      "Epoch 37/100\n",
      "36/36 [==============================] - 2s 42ms/step - loss: 0.2395 - acc: 0.9080 - val_loss: 0.2329 - val_acc: 0.9062\n",
      "Epoch 38/100\n",
      "36/36 [==============================] - 1s 41ms/step - loss: 0.2315 - acc: 0.9097 - val_loss: 0.2320 - val_acc: 0.9076\n",
      "Epoch 39/100\n",
      "36/36 [==============================] - 1s 42ms/step - loss: 0.2332 - acc: 0.9084 - val_loss: 0.2303 - val_acc: 0.9089\n",
      "Epoch 40/100\n",
      "36/36 [==============================] - 1s 41ms/step - loss: 0.2286 - acc: 0.9093 - val_loss: 0.2290 - val_acc: 0.9062\n",
      "Epoch 41/100\n",
      "36/36 [==============================] - 2s 42ms/step - loss: 0.2342 - acc: 0.9089 - val_loss: 0.2285 - val_acc: 0.9102\n",
      "Epoch 42/100\n",
      "36/36 [==============================] - 1s 41ms/step - loss: 0.2295 - acc: 0.9089 - val_loss: 0.2280 - val_acc: 0.9076\n",
      "Epoch 43/100\n",
      "36/36 [==============================] - 1s 41ms/step - loss: 0.2280 - acc: 0.9089 - val_loss: 0.2269 - val_acc: 0.9102\n",
      "Epoch 44/100\n",
      "36/36 [==============================] - 1s 42ms/step - loss: 0.2234 - acc: 0.9102 - val_loss: 0.2237 - val_acc: 0.9141\n",
      "Epoch 45/100\n",
      "36/36 [==============================] - 1s 42ms/step - loss: 0.2257 - acc: 0.9102 - val_loss: 0.2256 - val_acc: 0.9076\n",
      "Epoch 46/100\n",
      "36/36 [==============================] - 2s 44ms/step - loss: 0.2252 - acc: 0.9119 - val_loss: 0.2220 - val_acc: 0.9167\n",
      "Epoch 47/100\n",
      "36/36 [==============================] - 1s 41ms/step - loss: 0.2195 - acc: 0.9145 - val_loss: 0.2207 - val_acc: 0.9102\n",
      "Epoch 48/100\n",
      "36/36 [==============================] - 2s 44ms/step - loss: 0.2239 - acc: 0.9067 - val_loss: 0.2202 - val_acc: 0.9115\n",
      "Epoch 49/100\n",
      "36/36 [==============================] - 2s 42ms/step - loss: 0.2179 - acc: 0.9141 - val_loss: 0.2186 - val_acc: 0.9115\n",
      "Epoch 50/100\n",
      "36/36 [==============================] - 2s 44ms/step - loss: 0.2206 - acc: 0.9136 - val_loss: 0.2175 - val_acc: 0.9154\n",
      "Epoch 51/100\n",
      "36/36 [==============================] - 2s 44ms/step - loss: 0.2131 - acc: 0.9145 - val_loss: 0.2158 - val_acc: 0.9154\n",
      "Epoch 52/100\n",
      "36/36 [==============================] - 2s 42ms/step - loss: 0.2115 - acc: 0.9167 - val_loss: 0.2146 - val_acc: 0.9102\n",
      "Epoch 53/100\n",
      "36/36 [==============================] - 1s 41ms/step - loss: 0.2143 - acc: 0.9102 - val_loss: 0.2154 - val_acc: 0.9089\n",
      "Epoch 54/100\n",
      "36/36 [==============================] - 1s 42ms/step - loss: 0.2165 - acc: 0.9110 - val_loss: 0.2139 - val_acc: 0.9206\n",
      "Epoch 55/100\n",
      "36/36 [==============================] - 2s 43ms/step - loss: 0.2086 - acc: 0.9149 - val_loss: 0.2120 - val_acc: 0.9154\n",
      "Epoch 56/100\n",
      "36/36 [==============================] - 2s 42ms/step - loss: 0.2101 - acc: 0.9158 - val_loss: 0.2140 - val_acc: 0.9128\n",
      "Epoch 57/100\n",
      "36/36 [==============================] - 2s 44ms/step - loss: 0.2154 - acc: 0.9110 - val_loss: 0.2100 - val_acc: 0.9193\n",
      "Epoch 58/100\n",
      "36/36 [==============================] - 1s 41ms/step - loss: 0.2029 - acc: 0.9149 - val_loss: 0.2086 - val_acc: 0.9167\n",
      "Epoch 59/100\n",
      "36/36 [==============================] - 2s 46ms/step - loss: 0.2065 - acc: 0.9184 - val_loss: 0.2069 - val_acc: 0.9180\n",
      "Epoch 60/100\n",
      "36/36 [==============================] - 1s 41ms/step - loss: 0.2027 - acc: 0.9149 - val_loss: 0.2064 - val_acc: 0.9180\n",
      "Epoch 61/100\n",
      "36/36 [==============================] - 2s 42ms/step - loss: 0.2067 - acc: 0.9154 - val_loss: 0.2051 - val_acc: 0.9206\n",
      "Epoch 62/100\n"
     ]
    },
    {
     "name": "stdout",
     "output_type": "stream",
     "text": [
      "36/36 [==============================] - 2s 43ms/step - loss: 0.2016 - acc: 0.9175 - val_loss: 0.2064 - val_acc: 0.9180\n",
      "Epoch 63/100\n",
      "36/36 [==============================] - 2s 42ms/step - loss: 0.2048 - acc: 0.9206 - val_loss: 0.2026 - val_acc: 0.9206\n",
      "Epoch 64/100\n",
      "36/36 [==============================] - 2s 42ms/step - loss: 0.1990 - acc: 0.9210 - val_loss: 0.2034 - val_acc: 0.9180\n",
      "Epoch 65/100\n",
      "36/36 [==============================] - 2s 42ms/step - loss: 0.2009 - acc: 0.9210 - val_loss: 0.2005 - val_acc: 0.9219\n",
      "Epoch 66/100\n",
      "36/36 [==============================] - 2s 44ms/step - loss: 0.1955 - acc: 0.9188 - val_loss: 0.1987 - val_acc: 0.9206\n",
      "Epoch 67/100\n",
      "36/36 [==============================] - 2s 44ms/step - loss: 0.2009 - acc: 0.9184 - val_loss: 0.1983 - val_acc: 0.9219\n",
      "Epoch 68/100\n",
      "36/36 [==============================] - 2s 44ms/step - loss: 0.1913 - acc: 0.9258 - val_loss: 0.1974 - val_acc: 0.9232\n",
      "Epoch 69/100\n",
      "36/36 [==============================] - 1s 40ms/step - loss: 0.1950 - acc: 0.9227 - val_loss: 0.1981 - val_acc: 0.9180\n",
      "Epoch 70/100\n",
      "36/36 [==============================] - 1s 41ms/step - loss: 0.1880 - acc: 0.9227 - val_loss: 0.1948 - val_acc: 0.9232\n",
      "Epoch 71/100\n",
      "36/36 [==============================] - 1s 41ms/step - loss: 0.1924 - acc: 0.9201 - val_loss: 0.1948 - val_acc: 0.9219\n",
      "Epoch 72/100\n",
      "36/36 [==============================] - 2s 44ms/step - loss: 0.1909 - acc: 0.9227 - val_loss: 0.1960 - val_acc: 0.9206\n",
      "Epoch 73/100\n",
      "36/36 [==============================] - 1s 40ms/step - loss: 0.1842 - acc: 0.9245 - val_loss: 0.1908 - val_acc: 0.9219\n",
      "Epoch 74/100\n",
      "36/36 [==============================] - 1s 41ms/step - loss: 0.1862 - acc: 0.9245 - val_loss: 0.1925 - val_acc: 0.9232\n",
      "Epoch 75/100\n",
      "36/36 [==============================] - 1s 40ms/step - loss: 0.1865 - acc: 0.9245 - val_loss: 0.1882 - val_acc: 0.9258\n",
      "Epoch 76/100\n",
      "36/36 [==============================] - 2s 44ms/step - loss: 0.1879 - acc: 0.9223 - val_loss: 0.1891 - val_acc: 0.9271\n",
      "Epoch 77/100\n",
      "36/36 [==============================] - 1s 41ms/step - loss: 0.1825 - acc: 0.9275 - val_loss: 0.1866 - val_acc: 0.9271\n",
      "Epoch 78/100\n",
      "36/36 [==============================] - 2s 44ms/step - loss: 0.1827 - acc: 0.9280 - val_loss: 0.1865 - val_acc: 0.9258\n",
      "Epoch 79/100\n",
      "36/36 [==============================] - 1s 41ms/step - loss: 0.1831 - acc: 0.9253 - val_loss: 0.1868 - val_acc: 0.9271\n",
      "Epoch 80/100\n",
      "36/36 [==============================] - 1s 40ms/step - loss: 0.1746 - acc: 0.9284 - val_loss: 0.1828 - val_acc: 0.9336\n",
      "Epoch 81/100\n",
      "36/36 [==============================] - 1s 40ms/step - loss: 0.1721 - acc: 0.9288 - val_loss: 0.1813 - val_acc: 0.9310\n",
      "Epoch 82/100\n",
      "36/36 [==============================] - 2s 45ms/step - loss: 0.1777 - acc: 0.9280 - val_loss: 0.1807 - val_acc: 0.9284\n",
      "Epoch 83/100\n",
      "36/36 [==============================] - 1s 40ms/step - loss: 0.1809 - acc: 0.9232 - val_loss: 0.1804 - val_acc: 0.9284\n",
      "Epoch 84/100\n",
      "36/36 [==============================] - 1s 40ms/step - loss: 0.1707 - acc: 0.9301 - val_loss: 0.1792 - val_acc: 0.9310\n",
      "Epoch 85/100\n",
      "36/36 [==============================] - 1s 40ms/step - loss: 0.1728 - acc: 0.9319 - val_loss: 0.1767 - val_acc: 0.9323\n",
      "Epoch 86/100\n",
      "36/36 [==============================] - 1s 40ms/step - loss: 0.1774 - acc: 0.9275 - val_loss: 0.1780 - val_acc: 0.9336\n",
      "Epoch 87/100\n",
      "36/36 [==============================] - 2s 42ms/step - loss: 0.1709 - acc: 0.9345 - val_loss: 0.1755 - val_acc: 0.9336\n",
      "Epoch 88/100\n",
      "36/36 [==============================] - 2s 46ms/step - loss: 0.1680 - acc: 0.9319 - val_loss: 0.1753 - val_acc: 0.9375\n",
      "Epoch 89/100\n",
      "36/36 [==============================] - 2s 45ms/step - loss: 0.1680 - acc: 0.9314 - val_loss: 0.1728 - val_acc: 0.9336\n",
      "Epoch 90/100\n",
      "36/36 [==============================] - 2s 44ms/step - loss: 0.1627 - acc: 0.9340 - val_loss: 0.1730 - val_acc: 0.9362\n",
      "Epoch 91/100\n",
      "36/36 [==============================] - 2s 45ms/step - loss: 0.1610 - acc: 0.9345 - val_loss: 0.1703 - val_acc: 0.9375\n",
      "Epoch 92/100\n",
      "36/36 [==============================] - 2s 45ms/step - loss: 0.1649 - acc: 0.9319 - val_loss: 0.1703 - val_acc: 0.9388\n",
      "Epoch 93/100\n",
      "36/36 [==============================] - 2s 45ms/step - loss: 0.1631 - acc: 0.9336 - val_loss: 0.1680 - val_acc: 0.9401\n",
      "Epoch 94/100\n",
      "36/36 [==============================] - 1s 41ms/step - loss: 0.1597 - acc: 0.9323 - val_loss: 0.1671 - val_acc: 0.9388\n",
      "Epoch 95/100\n",
      "36/36 [==============================] - 1s 40ms/step - loss: 0.1585 - acc: 0.9388 - val_loss: 0.1658 - val_acc: 0.9401\n",
      "Epoch 96/100\n",
      "36/36 [==============================] - 2s 42ms/step - loss: 0.1575 - acc: 0.9345 - val_loss: 0.1637 - val_acc: 0.9401\n",
      "Epoch 97/100\n",
      "36/36 [==============================] - 2s 43ms/step - loss: 0.1533 - acc: 0.9401 - val_loss: 0.1615 - val_acc: 0.9388\n",
      "Epoch 98/100\n",
      "36/36 [==============================] - 2s 42ms/step - loss: 0.1505 - acc: 0.9423 - val_loss: 0.1610 - val_acc: 0.9388\n",
      "Epoch 99/100\n",
      "36/36 [==============================] - 2s 43ms/step - loss: 0.1527 - acc: 0.9375 - val_loss: 0.1608 - val_acc: 0.9427\n",
      "Epoch 100/100\n",
      "36/36 [==============================] - 1s 41ms/step - loss: 0.1530 - acc: 0.9431 - val_loss: 0.1599 - val_acc: 0.9375\n"
     ]
    }
   ],
   "source": [
    "from tensorflow.keras.callbacks import EarlyStopping\n",
    "\n",
    "# Add a callback for earlystopping\n",
    "callbacks = [EarlyStopping(patience=10, monitor='val_loss')]\n",
    "\n",
    "history = model.fit(\n",
    "    x=ds.train_ds,\n",
    "    validation_data=ds.val_ds,\n",
    "    epochs=100,\n",
    "    validation_steps=ds.val_size,\n",
    "    steps_per_epoch=ds.train_size,\n",
    "    callbacks=callbacks\n",
    ")"
   ]
  },
  {
   "cell_type": "code",
   "execution_count": 28,
   "metadata": {},
   "outputs": [
    {
     "data": {
      "image/png": "[encoded data removed]",
      "text/plain": [
       "<Figure size 432x288 with 1 Axes>"
      ]
     },
     "metadata": {
      "needs_background": "light"
     },
     "output_type": "display_data"
    },
    {
     "data": {
      "image/png": "[encoded data removed]",
      "text/plain": [
       "<Figure size 432x288 with 1 Axes>"
      ]
     },
     "metadata": {
      "needs_background": "light"
     },
     "output_type": "display_data"
    }
   ],
   "source": [
    "# Utility function for plotting of the model results\n",
    "def visualize_results(history):\n",
    "    # Plot the accuracy and loss curves\n",
    "    acc = history.history['acc']\n",
    "    val_acc = history.history['val_acc']\n",
    "    loss = history.history['loss']\n",
    "    val_loss = history.history['val_loss']\n",
    "\n",
    "    epochs = range(len(acc))\n",
    "\n",
    "    plt.plot(epochs, acc, 'b', label='Training acc')\n",
    "    plt.plot(epochs, val_acc, 'r', label='Validation acc')\n",
    "    plt.title('Training and validation accuracy')\n",
    "    plt.legend()\n",
    "\n",
    "    plt.figure()\n",
    "\n",
    "    plt.plot(epochs, loss, 'b', label='Training loss')\n",
    "    plt.plot(epochs, val_loss, 'r', label='Validation loss')\n",
    "    plt.title('Training and validation loss')\n",
    "    plt.legend()\n",
    "\n",
    "    plt.show()\n",
    "    \n",
    "visualize_results(history)"
   ]
  }
 ],
 "metadata": {
  "kernelspec": {
   "display_name": "Python 3",
   "language": "python",
   "name": "python3"
  },
  "language_info": {
   "codemirror_mode": {
    "name": "ipython",
    "version": 3
   },
   "file_extension": ".py",
   "mimetype": "text/x-python",
   "name": "python",
   "nbconvert_exporter": "python",
   "pygments_lexer": "ipython3",
   "version": "3.8.0"
  }
 },
 "nbformat": 4,
 "nbformat_minor": 4
}
